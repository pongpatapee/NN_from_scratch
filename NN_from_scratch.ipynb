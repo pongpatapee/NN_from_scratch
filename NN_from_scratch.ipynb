{
  "nbformat": 4,
  "nbformat_minor": 0,
  "metadata": {
    "colab": {
      "provenance": [],
      "authorship_tag": "ABX9TyPZOt3EjAc40F5FXWnIOY5i",
      "include_colab_link": true
    },
    "kernelspec": {
      "name": "python3",
      "display_name": "Python 3"
    },
    "language_info": {
      "name": "python"
    }
  },
  "cells": [
    {
      "cell_type": "markdown",
      "metadata": {
        "id": "view-in-github",
        "colab_type": "text"
      },
      "source": [
        "<a href=\"https://colab.research.google.com/github/pongpatapee/NN_from_scratch/blob/main/NN_from_scratch.ipynb\" target=\"_parent\"><img src=\"https://colab.research.google.com/assets/colab-badge.svg\" alt=\"Open In Colab\"/></a>"
      ]
    },
    {
      "cell_type": "markdown",
      "source": [
        "# Building Neural Network from scratch\n",
        "\n",
        "Using Andrew ng's Neural Network course as reference\n",
        "\n",
        "\n",
        "## Steps\n",
        "1. Initialize random parameters\n",
        "2. Feed Forward\n",
        "  - Make prediction with the network\n",
        "  - After the activation in each layer cache {W, b, Z}\n",
        "3. Compute Loss\n",
        "4. Backprop\n",
        "  - Using the cache from the previous step compute `dA[l] and dZ[l]`\n",
        "  - Cache `W[l] and b[l]` for each layer\n",
        "5. Update weights using cache from previous step\n",
        "  \n"
      ],
      "metadata": {
        "id": "MRf39N-55rwN"
      }
    },
    {
      "cell_type": "code",
      "execution_count": 27,
      "metadata": {
        "id": "CBn_VN86_UvA"
      },
      "outputs": [],
      "source": [
        "import numpy as np\n",
        "import h5py\n",
        "import copy\n",
        "import random\n",
        "import matplotlib.pyplot as plt"
      ]
    },
    {
      "cell_type": "code",
      "source": [
        "from public_tests import *"
      ],
      "metadata": {
        "id": "SRQOzHgyXrhg"
      },
      "execution_count": 28,
      "outputs": []
    },
    {
      "cell_type": "code",
      "source": [
        "def initialize_parameters(layer_dims):\n",
        "  # layer_dims: (nx, n1, n2, ..., nL)\n",
        "  np.random.seed(1)\n",
        "  L = len(layer_dims)\n",
        "  parameters = {}\n",
        "\n",
        "  for l in range(1, L):\n",
        "    # parameters[f\"W{l}\"] = np.random.randn(layer_dims[l], layer_dims[l - 1]) * 0.01\n",
        "    parameters[f\"W{l}\"] = np.random.randn(layer_dims[l], layer_dims[l - 1]) / np.sqrt(layer_dims[l-1])\n",
        "    parameters[f\"b{l}\"] = np.zeros((layer_dims[l], 1))\n",
        "\n",
        "    assert(parameters[f\"W{l}\"].shape == (layer_dims[l], layer_dims[l - 1]))\n",
        "    assert(parameters[f\"b{l}\"].shape == (layer_dims[l], 1))\n",
        "\n",
        "\n",
        "  return parameters"
      ],
      "metadata": {
        "id": "A8zPOvyjEeBP"
      },
      "execution_count": 47,
      "outputs": []
    },
    {
      "cell_type": "code",
      "source": [
        "def relu(Z):\n",
        "  A = np.maximum(Z, 0)\n",
        "  cache = Z\n",
        "\n",
        "  assert A.shape == Z.shape\n",
        "\n",
        "  return A, cache\n",
        "\n",
        "def sigmoid(Z):\n",
        "  cache = Z\n",
        "  return (1 / (1 + np.exp(-Z))), cache\n",
        "\n",
        "\n",
        "def forwardprop(X, parameters):\n",
        "  # X (features, examples)\n",
        "\n",
        "  # parameters consits of W, b for each layer, so num Layers is len/2\n",
        "  L = len(parameters) // 2\n",
        "  caches = []\n",
        "\n",
        "  # linear cache = (A_prev, W, b) of each layer\n",
        "  # activation cache = Z\n",
        "  # cache = (linear cache, activation cache) = ((A_prev, W, b), Z)\n",
        "\n",
        "  A_prev = X\n",
        "\n",
        "  for l in range(1, L):\n",
        "    W = parameters[f\"W{l}\"]\n",
        "    b = parameters[f\"b{l}\"]\n",
        "\n",
        "    linear_cache = (A_prev, W, b)\n",
        "\n",
        "    Z = W @ A_prev + b\n",
        "    A, activation_cache = relu(Z)\n",
        "\n",
        "\n",
        "    A_prev = A\n",
        "\n",
        "    caches.append((linear_cache, activation_cache))\n",
        "\n",
        "  WL, bL = parameters[f\"W{L}\"], parameters[f\"b{L}\"]\n",
        "  linear_cache = (A_prev, WL, bL)\n",
        "\n",
        "  Z = WL @ A_prev + bL\n",
        "  AL, activation_cache = sigmoid(Z)\n",
        "\n",
        "  caches.append((linear_cache, activation_cache))\n",
        "\n",
        "  return AL, caches\n"
      ],
      "metadata": {
        "id": "YY7_JQC-6MpT"
      },
      "execution_count": 48,
      "outputs": []
    },
    {
      "cell_type": "code",
      "source": [
        "# testing forward prop\n",
        "L_model_forward_test(forwardprop)"
      ],
      "metadata": {
        "colab": {
          "base_uri": "https://localhost:8080/"
        },
        "id": "KjJvm0FdYeTH",
        "outputId": "00a6386f-c02a-49f7-94f1-76db30dfc5ae"
      },
      "execution_count": 49,
      "outputs": [
        {
          "output_type": "stream",
          "name": "stdout",
          "text": [
            "\u001b[92m All tests passed.\n"
          ]
        }
      ]
    },
    {
      "cell_type": "code",
      "source": [
        "def compute_cost(A, Y):\n",
        "  m = Y.shape[1]\n",
        "  cost = (-1/m) * np.sum(Y * np.log(A) + (1 - Y) * np.log(1-A))\n",
        "  cost = np.squeeze(cost)\n",
        "  return cost"
      ],
      "metadata": {
        "id": "NrMc2yARcEQk"
      },
      "execution_count": 50,
      "outputs": []
    },
    {
      "cell_type": "code",
      "source": [
        "compute_cost_test(compute_cost)"
      ],
      "metadata": {
        "colab": {
          "base_uri": "https://localhost:8080/"
        },
        "id": "z1dUEU_GY3s1",
        "outputId": "862fdec4-45fc-40c1-dc7d-a77d60e8de2a"
      },
      "execution_count": 51,
      "outputs": [
        {
          "output_type": "stream",
          "name": "stdout",
          "text": [
            "\u001b[92m All tests passed.\n"
          ]
        }
      ]
    },
    {
      "cell_type": "code",
      "source": [
        "def relu_backward(dA, cache):\n",
        "  Z = cache\n",
        "  dZ = np.array(dA, copy=True)\n",
        "\n",
        "  # When z <= 0, dz should be 0 as well\n",
        "  dZ[Z <= 0] = 0\n",
        "\n",
        "  assert (dZ.shape == Z.shape)\n",
        "\n",
        "  return dZ\n",
        "\n",
        "def sigmoid_backward(dA, cache):\n",
        "  Z = cache\n",
        "\n",
        "  s = 1/(1+np.exp(-Z))\n",
        "  dZ = dA * s * (1-s) # derived from the sigmoid derivative\n",
        "\n",
        "  assert (dZ.shape == Z.shape)\n",
        "\n",
        "  return dZ\n",
        "\n",
        "def linear_backward(dZ, linear_cache):\n",
        "  A_prev, W, b = linear_cache\n",
        "  m = A_prev.shape[1]\n",
        "\n",
        "  # derivatives derived through calculus\n",
        "  dW = (1/m) * (dZ @ A_prev.T)\n",
        "  db = (1/m) * np.sum(dZ, axis=1, keepdims=True)\n",
        "  dA_prev = W.T @ dZ\n",
        "\n",
        "  return dA_prev, dW, db\n",
        "\n",
        "def backprop(AL, Y, caches):\n",
        "  grads = {}\n",
        "  L = len(caches)\n",
        "  m = AL.shape[1]\n",
        "  Y = Y.reshape(AL.shape)\n",
        "\n",
        "  # from derivative of cross entropy loss - (y/a + (1-y)/(1-a))\n",
        "  # already derivative with respect to loss/cost\n",
        "  dAL = - (np.divide(Y, AL) - np.divide(1-Y, 1-AL))\n",
        "\n",
        "  current_cache = caches[L - 1]\n",
        "  linear_cache, activation_cache = current_cache\n",
        "\n",
        "  dZ = sigmoid_backward(dAL, activation_cache)\n",
        "  dA_prev_temp, dW_temp, db_temp = linear_backward(dZ, linear_cache)\n",
        "\n",
        "  grads[f\"dA{L - 1}\"] = dA_prev_temp\n",
        "  grads[f\"dW{L}\"] = dW_temp\n",
        "  grads[f\"db{L}\"] = db_temp\n",
        "\n",
        "  # loops from L -2 -> 0\n",
        "  for l in reversed(range(L - 1)):\n",
        "    current_cache = caches[l]\n",
        "    linear_cache, activation_cache = current_cache\n",
        "\n",
        "    dZ = relu_backward(dA_prev_temp, activation_cache)\n",
        "    dA_prev_temp, dW_temp, db_temp = linear_backward(dZ, linear_cache)\n",
        "\n",
        "    grads[f\"dA{l}\"] = dA_prev_temp\n",
        "    grads[f\"dW{l + 1}\"] = dW_temp\n",
        "    grads[f\"db{l+ 1}\"] = db_temp\n",
        "\n",
        "\n",
        "  return grads"
      ],
      "metadata": {
        "id": "a6uVI5ibdWQV"
      },
      "execution_count": 52,
      "outputs": []
    },
    {
      "cell_type": "code",
      "source": [
        "L_model_backward_test(backprop)"
      ],
      "metadata": {
        "colab": {
          "base_uri": "https://localhost:8080/"
        },
        "id": "uPiBxOfiY-vr",
        "outputId": "a72be18d-ca86-41a7-8594-a7e02ec08dae"
      },
      "execution_count": 53,
      "outputs": [
        {
          "output_type": "stream",
          "name": "stdout",
          "text": [
            "\u001b[92m All tests passed.\n"
          ]
        }
      ]
    },
    {
      "cell_type": "code",
      "source": [
        "def update_parameters(params, grads, learning_rate):\n",
        "  L = len(params) // 2\n",
        "  parameters = copy.deepcopy(params)\n",
        "\n",
        "  for l in range(L):\n",
        "    parameters[f\"W{l+1}\"] -= grads[f\"dW{l+1}\"] * learning_rate\n",
        "    parameters[f\"b{l+1}\"] -= grads[f\"db{l+1}\"] * learning_rate\n",
        "\n",
        "  return parameters"
      ],
      "metadata": {
        "id": "fNf2GrU-yOqf"
      },
      "execution_count": 54,
      "outputs": []
    },
    {
      "cell_type": "code",
      "source": [
        "update_parameters_test(update_parameters)"
      ],
      "metadata": {
        "colab": {
          "base_uri": "https://localhost:8080/"
        },
        "id": "eH_-jdT4ZIm7",
        "outputId": "ae95d559-7185-486c-ff54-2fae6b14f371"
      },
      "execution_count": 55,
      "outputs": [
        {
          "output_type": "stream",
          "name": "stdout",
          "text": [
            "\u001b[92m All tests passed.\n"
          ]
        }
      ]
    },
    {
      "cell_type": "code",
      "source": [
        "def L_layer_model(X, Y, layer_dims, learning_rate=0.0075, num_iterations=3000, print_cost=False):\n",
        "  # np.random.seed(1) # for consistency\n",
        "  costs = []\n",
        "\n",
        "  parameters = initialize_parameters(layer_dims)\n",
        "\n",
        "\n",
        "  for i in range(num_iterations):\n",
        "    AL, caches = forwardprop(X, parameters) #caches[l] = ((A_prev, W, b), Z)\n",
        "\n",
        "    cost = compute_cost(AL, Y)\n",
        "\n",
        "    grads = backprop(AL, Y, caches)\n",
        "\n",
        "    parameters = update_parameters(parameters, grads, learning_rate)\n",
        "\n",
        "    if i % 100 == 0 or i == num_iterations:\n",
        "      costs.append(cost)\n",
        "      if print_cost:\n",
        "        print(f\"Iteration {i}, cost: {np.squeeze(cost)}\")\n",
        "\n",
        "\n",
        "  return parameters, costs\n",
        "\n"
      ],
      "metadata": {
        "id": "fighvErVy51A"
      },
      "execution_count": 56,
      "outputs": []
    },
    {
      "cell_type": "code",
      "source": [
        "parameters, costs = L_layer_model(train_x, train_y, layer_dims, num_iterations=3, print_cost=False)\n",
        "# print(parameters)\n",
        "\n",
        "L_layer_model_test(L_layer_model)"
      ],
      "metadata": {
        "colab": {
          "base_uri": "https://localhost:8080/",
          "height": 390
        },
        "id": "wskB6im2chU-",
        "outputId": "3de0dcaa-3d7f-4e20-8d2d-45f985e23270"
      },
      "execution_count": 57,
      "outputs": [
        {
          "output_type": "stream",
          "name": "stdout",
          "text": [
            "Error: Datatype mismatch. in variable 0. Got type: <class 'numpy.float64'>  but expected type <class 'numpy.ndarray'>\n",
            "\u001b[92m 3  Tests passed\n",
            "\u001b[91m 1  Tests failed\n"
          ]
        },
        {
          "output_type": "error",
          "ename": "AssertionError",
          "evalue": "ignored",
          "traceback": [
            "\u001b[0;31m---------------------------------------------------------------------------\u001b[0m",
            "\u001b[0;31mAssertionError\u001b[0m                            Traceback (most recent call last)",
            "\u001b[0;32m<ipython-input-57-765250e3e11a>\u001b[0m in \u001b[0;36m<cell line: 4>\u001b[0;34m()\u001b[0m\n\u001b[1;32m      2\u001b[0m \u001b[0;31m# print(parameters)\u001b[0m\u001b[0;34m\u001b[0m\u001b[0;34m\u001b[0m\u001b[0m\n\u001b[1;32m      3\u001b[0m \u001b[0;34m\u001b[0m\u001b[0m\n\u001b[0;32m----> 4\u001b[0;31m \u001b[0mL_layer_model_test\u001b[0m\u001b[0;34m(\u001b[0m\u001b[0mL_layer_model\u001b[0m\u001b[0;34m)\u001b[0m\u001b[0;34m\u001b[0m\u001b[0;34m\u001b[0m\u001b[0m\n\u001b[0m",
            "\u001b[0;32m/content/public_tests.py\u001b[0m in \u001b[0;36mL_layer_model_test\u001b[0;34m(target)\u001b[0m\n\u001b[1;32m    763\u001b[0m     ]\n\u001b[1;32m    764\u001b[0m \u001b[0;34m\u001b[0m\u001b[0m\n\u001b[0;32m--> 765\u001b[0;31m     \u001b[0mmultiple_test\u001b[0m\u001b[0;34m(\u001b[0m\u001b[0mtest_cases\u001b[0m\u001b[0;34m,\u001b[0m \u001b[0mtarget\u001b[0m\u001b[0;34m)\u001b[0m\u001b[0;34m\u001b[0m\u001b[0;34m\u001b[0m\u001b[0m\n\u001b[0m",
            "\u001b[0;32m/content/test_utils.py\u001b[0m in \u001b[0;36mmultiple_test\u001b[0;34m(test_cases, target)\u001b[0m\n\u001b[1;32m    140\u001b[0m         \u001b[0mprint\u001b[0m\u001b[0;34m(\u001b[0m\u001b[0;34m'\\033[92m'\u001b[0m\u001b[0;34m,\u001b[0m \u001b[0msuccess\u001b[0m\u001b[0;34m,\u001b[0m\u001b[0;34m\" Tests passed\"\u001b[0m\u001b[0;34m)\u001b[0m\u001b[0;34m\u001b[0m\u001b[0;34m\u001b[0m\u001b[0m\n\u001b[1;32m    141\u001b[0m         \u001b[0mprint\u001b[0m\u001b[0;34m(\u001b[0m\u001b[0;34m'\\033[91m'\u001b[0m\u001b[0;34m,\u001b[0m \u001b[0mlen\u001b[0m\u001b[0;34m(\u001b[0m\u001b[0mtest_cases\u001b[0m\u001b[0;34m)\u001b[0m \u001b[0;34m-\u001b[0m \u001b[0msuccess\u001b[0m\u001b[0;34m,\u001b[0m \u001b[0;34m\" Tests failed\"\u001b[0m\u001b[0;34m)\u001b[0m\u001b[0;34m\u001b[0m\u001b[0;34m\u001b[0m\u001b[0m\n\u001b[0;32m--> 142\u001b[0;31m         \u001b[0;32mraise\u001b[0m \u001b[0mAssertionError\u001b[0m\u001b[0;34m(\u001b[0m\u001b[0;34m\"Not all tests were passed for {}. Check your equations and avoid using global variables inside the function.\"\u001b[0m\u001b[0;34m.\u001b[0m\u001b[0mformat\u001b[0m\u001b[0;34m(\u001b[0m\u001b[0mtarget\u001b[0m\u001b[0;34m.\u001b[0m\u001b[0m__name__\u001b[0m\u001b[0;34m)\u001b[0m\u001b[0;34m)\u001b[0m\u001b[0;34m\u001b[0m\u001b[0;34m\u001b[0m\u001b[0m\n\u001b[0m\u001b[1;32m    143\u001b[0m \u001b[0;34m\u001b[0m\u001b[0m\n",
            "\u001b[0;31mAssertionError\u001b[0m: Not all tests were passed for L_layer_model. Check your equations and avoid using global variables inside the function."
          ]
        }
      ]
    },
    {
      "cell_type": "code",
      "source": [
        "# Load data function from util file\n",
        "def load_data():\n",
        "  train_dataset = h5py.File('datasets/train_catvnoncat.h5', \"r\")\n",
        "  train_set_x_orig = np.array(train_dataset[\"train_set_x\"][:]) # your train set features\n",
        "  train_set_y_orig = np.array(train_dataset[\"train_set_y\"][:]) # your train set labels\n",
        "\n",
        "  test_dataset = h5py.File('datasets/test_catvnoncat.h5', \"r\")\n",
        "  test_set_x_orig = np.array(test_dataset[\"test_set_x\"][:]) # your test set features\n",
        "  test_set_y_orig = np.array(test_dataset[\"test_set_y\"][:]) # your test set labels\n",
        "\n",
        "  classes = np.array(test_dataset[\"list_classes\"][:]) # the list of classes\n",
        "\n",
        "  train_set_y_orig = train_set_y_orig.reshape((1, train_set_y_orig.shape[0]))\n",
        "  test_set_y_orig = test_set_y_orig.reshape((1, test_set_y_orig.shape[0]))\n",
        "\n",
        "  return train_set_x_orig, train_set_y_orig, test_set_x_orig, test_set_y_orig, classes"
      ],
      "metadata": {
        "id": "OtDC-rMk0a_k"
      },
      "execution_count": 58,
      "outputs": []
    },
    {
      "cell_type": "code",
      "source": [
        "# loading and showing example data\n",
        "train_x_orig, train_y, test_x_orig, test_y, classes = load_data()"
      ],
      "metadata": {
        "id": "JN_YAJ-Z6ffX"
      },
      "execution_count": 59,
      "outputs": []
    },
    {
      "cell_type": "code",
      "source": [
        "# preview data\n",
        "index = random.randrange(0, len(train_x_orig))\n",
        "plt.imshow(train_x_orig[index])\n",
        "print(f\"y = {str(train_y[0, index])}\")"
      ],
      "metadata": {
        "colab": {
          "base_uri": "https://localhost:8080/",
          "height": 449
        },
        "id": "egRsWT4W6glu",
        "outputId": "23f7cb67-078c-4466-f4b8-f38677d259ca"
      },
      "execution_count": 60,
      "outputs": [
        {
          "output_type": "stream",
          "name": "stdout",
          "text": [
            "y = 1\n"
          ]
        },
        {
          "output_type": "display_data",
          "data": {
            "text/plain": [
              "<Figure size 640x480 with 1 Axes>"
            ],
            "image/png": "[encoded data removed]"
          },
          "metadata": {}
        }
      ]
    },
    {
      "cell_type": "code",
      "source": [
        "# print shapes\n",
        "print(f\"train_x_orig shape: {train_x_orig.shape}\")\n",
        "print(f\"train_y shape: {train_y.shape}\")\n",
        "print(f\"test_x_orig shape: {test_x_orig.shape}\")\n",
        "print(f\"test_y shape: {test_y.shape}\")"
      ],
      "metadata": {
        "colab": {
          "base_uri": "https://localhost:8080/"
        },
        "id": "vnKmKZPT61hj",
        "outputId": "6caae94b-f0aa-469b-d3a7-2ff8f42f2ea4"
      },
      "execution_count": 61,
      "outputs": [
        {
          "output_type": "stream",
          "name": "stdout",
          "text": [
            "train_x_orig shape: (209, 64, 64, 3)\n",
            "train_y shape: (1, 209)\n",
            "test_x_orig shape: (50, 64, 64, 3)\n",
            "test_y shape: (1, 50)\n"
          ]
        }
      ]
    },
    {
      "cell_type": "code",
      "source": [
        "# Flatten pixels and rgb\n",
        "# .shape[0] = current index for num training examples\n",
        "train_x_flatten = train_x_orig.reshape(train_x_orig.shape[0], -1)\n",
        "test_x_flatten = test_x_orig.reshape(test_x_orig.shape[0], -1)\n",
        "\n",
        "# transpose such that num training examples are stacked column wise\n",
        "train_x_flatten = train_x_flatten.T\n",
        "test_x_flatten = test_x_flatten.T\n",
        "\n",
        "# standardize/normalize data to have feature values between 0 and 1\n",
        "train_x = train_x_flatten/255\n",
        "test_x = test_x_flatten/255\n",
        "\n",
        "# display new shapes\n",
        "print(f\"train_x shape: {train_x.shape}\")\n",
        "print(f\"test_x shape: {test_x.shape}\")"
      ],
      "metadata": {
        "colab": {
          "base_uri": "https://localhost:8080/"
        },
        "id": "9qsgBg_L7y7r",
        "outputId": "1c6f2c7a-4d50-47c2-9e63-3c18ea41b83f"
      },
      "execution_count": 62,
      "outputs": [
        {
          "output_type": "stream",
          "name": "stdout",
          "text": [
            "train_x shape: (12288, 209)\n",
            "test_x shape: (12288, 50)\n"
          ]
        }
      ]
    },
    {
      "cell_type": "code",
      "source": [
        "def plot_costs(costs, learning_rate=0.0075):\n",
        "  plt.plot(np.squeeze(costs))\n",
        "  plt.ylabel('cost')\n",
        "  plt.xlabel('iterations (per hundreds)')\n",
        "  plt.title(\"Learning rate =\" + str(learning_rate))\n",
        "  plt.show()"
      ],
      "metadata": {
        "id": "2mTFHV8LEsIA"
      },
      "execution_count": 63,
      "outputs": []
    },
    {
      "cell_type": "code",
      "source": [
        "def predict(X, Y, parameters):\n",
        "  m = X.shape[1]\n",
        "  pred, caches = forwardprop(X, parameters)\n",
        "  p = np.zeros((1, m))\n",
        "\n",
        "  for i in range(0, pred.shape[1]):\n",
        "    if pred[0, i] > 0.5:\n",
        "      p[0, i] = 1\n",
        "    else:\n",
        "      p[0, i] = 0\n",
        "\n",
        "  print(f\"Accuracy: {np.sum((p == Y) / m)}\")\n",
        "\n",
        "  return p\n"
      ],
      "metadata": {
        "id": "tROQZ8e39_UC"
      },
      "execution_count": 64,
      "outputs": []
    },
    {
      "cell_type": "code",
      "source": [
        "# feed into model\n",
        "layer_dims = [12288, 20, 7, 5, 1]\n",
        "\n",
        "parameters, costs = L_layer_model(train_x, train_y, layer_dims, num_iterations=2500, print_cost=True)\n",
        "plot_costs(costs)"
      ],
      "metadata": {
        "colab": {
          "base_uri": "https://localhost:8080/",
          "height": 906
        },
        "id": "UTRZF6K79L1-",
        "outputId": "d8482f0f-4388-40ab-a313-4bee5264949f"
      },
      "execution_count": 65,
      "outputs": [
        {
          "output_type": "stream",
          "name": "stdout",
          "text": [
            "Iteration 0, cost: 0.7717493284237686\n",
            "Iteration 100, cost: 0.6720534400822913\n",
            "Iteration 200, cost: 0.6482632048575212\n",
            "Iteration 300, cost: 0.6115068816101354\n",
            "Iteration 400, cost: 0.567047326836611\n",
            "Iteration 500, cost: 0.5401376634547801\n",
            "Iteration 600, cost: 0.5279299569455267\n",
            "Iteration 700, cost: 0.46547737717668514\n",
            "Iteration 800, cost: 0.369125852495928\n",
            "Iteration 900, cost: 0.3917469743480534\n",
            "Iteration 1000, cost: 0.3151869888600617\n",
            "Iteration 1100, cost: 0.2726998441789385\n",
            "Iteration 1200, cost: 0.23741853400268137\n",
            "Iteration 1300, cost: 0.19960120532208644\n",
            "Iteration 1400, cost: 0.18926300388463305\n",
            "Iteration 1500, cost: 0.16118854665827753\n",
            "Iteration 1600, cost: 0.14821389662363316\n",
            "Iteration 1700, cost: 0.13777487812972944\n",
            "Iteration 1800, cost: 0.1297401754919012\n",
            "Iteration 1900, cost: 0.12122535068005212\n",
            "Iteration 2000, cost: 0.1138206066863371\n",
            "Iteration 2100, cost: 0.10783928526254133\n",
            "Iteration 2200, cost: 0.1028546606935268\n",
            "Iteration 2300, cost: 0.10089745445261786\n",
            "Iteration 2400, cost: 0.09287821526472397\n"
          ]
        },
        {
          "output_type": "display_data",
          "data": {
            "text/plain": [
              "<Figure size 640x480 with 1 Axes>"
            ],
            "image/png": "[encoded data removed]"
          },
          "metadata": {}
        }
      ]
    },
    {
      "cell_type": "code",
      "source": [
        "pred_train = predict(train_x, train_y, parameters)"
      ],
      "metadata": {
        "id": "u56M1V7HTtPt",
        "colab": {
          "base_uri": "https://localhost:8080/"
        },
        "outputId": "a657252e-5b4b-477b-9345-5ef5f7f1af0f"
      },
      "execution_count": 66,
      "outputs": [
        {
          "output_type": "stream",
          "name": "stdout",
          "text": [
            "Accuracy: 0.9856459330143539\n"
          ]
        }
      ]
    },
    {
      "cell_type": "code",
      "source": [
        "pred_test = predict(test_x, test_y, parameters)"
      ],
      "metadata": {
        "colab": {
          "base_uri": "https://localhost:8080/"
        },
        "id": "KigbSzAdTy_o",
        "outputId": "6dfd9c0c-fe35-4dcf-ca17-3cd360628147"
      },
      "execution_count": 67,
      "outputs": [
        {
          "output_type": "stream",
          "name": "stdout",
          "text": [
            "Accuracy: 0.8\n"
          ]
        }
      ]
    },
    {
      "cell_type": "code",
      "source": [],
      "metadata": {
        "id": "za6Uz3cfT3UX"
      },
      "execution_count": null,
      "outputs": []
    }
  ]
}