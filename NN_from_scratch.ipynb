{
  "nbformat": 4,
  "nbformat_minor": 0,
  "metadata": {
    "colab": {
      "provenance": [],
      "authorship_tag": "ABX9TyPJfNqhn+YucdqQmbVJugfb",
      "include_colab_link": true
    },
    "kernelspec": {
      "name": "python3",
      "display_name": "Python 3"
    },
    "language_info": {
      "name": "python"
    }
  },
  "cells": [
    {
      "cell_type": "markdown",
      "metadata": {
        "id": "view-in-github",
        "colab_type": "text"
      },
      "source": [
        "<a href=\"https://colab.research.google.com/github/pongpatapee/NN_from_scratch/blob/main/NN_from_scratch.ipynb\" target=\"_parent\"><img src=\"https://colab.research.google.com/assets/colab-badge.svg\" alt=\"Open In Colab\"/></a>"
      ]
    },
    {
      "cell_type": "markdown",
      "source": [
        "# Building Neural Network from scratch\n",
        "\n",
        "Using Andrew ng's Neural Network course as reference\n",
        "\n",
        "\n",
        "## Steps\n",
        "1. Initialize random parameters\n",
        "2. Feed Forward\n",
        "  - Make prediction with the network\n",
        "  - After the activation in each layer cache {W, b, Z}\n",
        "3. Compute Loss\n",
        "4. Backprop\n",
        "  - Using the cache from the previous step compute `dA[l] and dZ[l]`\n",
        "  - Cache `W[l] and b[l]` for each layer\n",
        "5. Update weights using cache from previous step\n",
        "  \n"
      ],
      "metadata": {
        "id": "MRf39N-55rwN"
      }
    },
    {
      "cell_type": "code",
      "execution_count": null,
      "metadata": {
        "id": "CBn_VN86_UvA"
      },
      "outputs": [],
      "source": [
        "import numpy as np"
      ]
    },
    {
      "cell_type": "code",
      "source": [
        "def initialize_parameters(layers_dim):\n",
        "  # layers_dim: (nx, n1, n2, ..., nL)\n",
        "  L = len(layers_dim)\n",
        "  parameters = {}\n",
        "\n",
        "  for l in range(1, L):\n",
        "    parameters[f\"W{l}\"] = np.random.randn((layers_dim[l], layers_dim[l - 1]))\n",
        "    parameters[f\"b{l}\"] = np.zeros((layers_dim[l], 1))\n",
        "\n",
        "\n",
        "  return parameters"
      ],
      "metadata": {
        "id": "A8zPOvyjEeBP"
      },
      "execution_count": null,
      "outputs": []
    },
    {
      "cell_type": "code",
      "source": [
        "# testing copying to github"
      ],
      "metadata": {
        "id": "YY7_JQC-6MpT"
      },
      "execution_count": null,
      "outputs": []
    }
  ]
}