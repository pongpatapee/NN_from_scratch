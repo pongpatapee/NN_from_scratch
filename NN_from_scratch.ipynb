{
  "nbformat": 4,
  "nbformat_minor": 0,
  "metadata": {
    "colab": {
      "provenance": [],
      "authorship_tag": "ABX9TyOt8XXQnVmqXmc9b3fwNTSQ",
      "include_colab_link": true
    },
    "kernelspec": {
      "name": "python3",
      "display_name": "Python 3"
    },
    "language_info": {
      "name": "python"
    }
  },
  "cells": [
    {
      "cell_type": "markdown",
      "metadata": {
        "id": "view-in-github",
        "colab_type": "text"
      },
      "source": [
        "<a href=\"https://colab.research.google.com/github/pongpatapee/NN_from_scratch/blob/main/NN_from_scratch.ipynb\" target=\"_parent\"><img src=\"https://colab.research.google.com/assets/colab-badge.svg\" alt=\"Open In Colab\"/></a>"
      ]
    },
    {
      "cell_type": "markdown",
      "source": [
        "# Building Neural Network from scratch\n",
        "\n",
        "Using Andrew ng's Neural Network course as reference\n",
        "\n",
        "\n",
        "## Steps\n",
        "1. Initialize random parameters\n",
        "2. Feed Forward\n",
        "  - Make prediction with the network\n",
        "  - After the activation in each layer cache {W, b, Z}\n",
        "3. Compute Loss\n",
        "4. Backprop\n",
        "  - Using the cache from the previous step compute `dA[l] and dZ[l]`\n",
        "  - Cache `W[l] and b[l]` for each layer\n",
        "5. Update weights using cache from previous step\n",
        "  \n"
      ],
      "metadata": {
        "id": "MRf39N-55rwN"
      }
    },
    {
      "cell_type": "code",
      "execution_count": 112,
      "metadata": {
        "id": "CBn_VN86_UvA"
      },
      "outputs": [],
      "source": [
        "import numpy as np\n",
        "import h5py\n",
        "import copy\n",
        "import random\n",
        "import matplotlib.pyplot as plt"
      ]
    },
    {
      "cell_type": "code",
      "source": [
        "def initialize_parameters(layer_dims):\n",
        "  # layer_dims: (nx, n1, n2, ..., nL)\n",
        "  np.random.seed(1)\n",
        "  L = len(layer_dims)\n",
        "  parameters = {}\n",
        "\n",
        "  for l in range(1, L):\n",
        "    parameters[f\"W{l}\"] = np.random.randn(layer_dims[l], layer_dims[l - 1]) * 0.01\n",
        "    parameters[f\"b{l}\"] = np.zeros((layer_dims[l], 1))\n",
        "\n",
        "    assert(parameters[f\"W{l}\"].shape == (layer_dims[l], layer_dims[l - 1]))\n",
        "    assert(parameters[f\"b{l}\"].shape == (layer_dims[l], 1))\n",
        "\n",
        "\n",
        "  return parameters"
      ],
      "metadata": {
        "id": "A8zPOvyjEeBP"
      },
      "execution_count": 126,
      "outputs": []
    },
    {
      "cell_type": "code",
      "source": [
        "def relu(Z):\n",
        "  A = np.maximum(Z, 0)\n",
        "  cache = Z\n",
        "\n",
        "  assert A.shape == Z.shape\n",
        "\n",
        "  return A, cache\n",
        "\n",
        "def sigmoid(Z):\n",
        "  cache = Z\n",
        "  return (1 / (1 + np.exp(-Z))), cache\n",
        "\n",
        "\n",
        "def forwardprop(X, parameters):\n",
        "  # X (features, examples)\n",
        "\n",
        "  # parameters consits of W, b for each layer, so num Layers is len/2\n",
        "  L = len(parameters) // 2\n",
        "  caches = []\n",
        "\n",
        "  # linear cache = (A_prev, W, b) of each layer\n",
        "  # activation cache = Z\n",
        "  # cache = (linear cache, activation cache) = ((A_prev, W, b), Z)\n",
        "\n",
        "  A_prev = X\n",
        "\n",
        "  for l in range(1, L):\n",
        "    W = parameters[f\"W{l}\"]\n",
        "    b = parameters[f\"b{l}\"]\n",
        "\n",
        "    linear_cache = (A_prev, W, b)\n",
        "\n",
        "    Z = W @ A_prev + b\n",
        "    A, activation_cache = relu(Z)\n",
        "\n",
        "\n",
        "    A_prev = A\n",
        "\n",
        "    caches.append((linear_cache, activation_cache))\n",
        "\n",
        "  WL, bL = parameters[f\"W{L}\"], parameters[f\"b{L}\"]\n",
        "  linear_cache = (A_prev, WL, bL)\n",
        "\n",
        "  Z = WL @ A_prev + bL\n",
        "  AL, activation_cache = sigmoid(Z)\n",
        "\n",
        "  caches.append((linear_cache, activation_cache))\n",
        "\n",
        "  return AL, caches\n"
      ],
      "metadata": {
        "id": "YY7_JQC-6MpT"
      },
      "execution_count": 114,
      "outputs": []
    },
    {
      "cell_type": "code",
      "source": [
        "def compute_cost(A, Y):\n",
        "  m = Y.shape[1]\n",
        "  cost = (-1/m) * np.sum(Y * np.log(A) + (1 - Y) * np.log(1-A))\n",
        "  cost = np.squeeze(cost)\n",
        "  return cost"
      ],
      "metadata": {
        "id": "NrMc2yARcEQk"
      },
      "execution_count": 115,
      "outputs": []
    },
    {
      "cell_type": "code",
      "source": [
        "def relu_backward(dA, cache):\n",
        "  Z = cache\n",
        "  dZ = np.array(dA, copy=True)\n",
        "\n",
        "  # When z <= 0, dz should be 0 as well\n",
        "  dZ[Z <= 0] = 0\n",
        "\n",
        "  assert (dZ.shape == Z.shape)\n",
        "\n",
        "  return dZ\n",
        "\n",
        "def sigmoid_backward(dA, cache):\n",
        "  Z = cache\n",
        "\n",
        "  s = 1/(1+np.exp(-Z))\n",
        "  dZ = dA * s * (1-s) # derived from the sigmoid derivative\n",
        "\n",
        "  assert (dZ.shape == Z.shape)\n",
        "\n",
        "  return dZ\n",
        "\n",
        "def linear_backward(dZ, linear_cache):\n",
        "  A_prev, W, b = linear_cache\n",
        "  m = A_prev.shape[1]\n",
        "\n",
        "  # derivatives derived through calculus\n",
        "  dW = (1/m) * (dZ @ A_prev.T)\n",
        "  db = (1/m) * np.sum(dZ, axis=1, keepdims=True)\n",
        "  dA_prev = W.T @ dZ\n",
        "\n",
        "  return dA_prev, dW, db\n",
        "\n",
        "def backprop(AL, Y, caches):\n",
        "  grads = {}\n",
        "  L = len(caches)\n",
        "  m = AL.shape[1]\n",
        "  Y = Y.reshape(AL.shape)\n",
        "\n",
        "  # from derivative of cross entropy loss - (y/a + (1-y)/(1-a))\n",
        "  # already derivative with respect to loss/cost\n",
        "  dAL = - (np.divide(Y, AL) - np.divide(1-Y, 1-AL))\n",
        "\n",
        "  current_cache = caches[L - 1]\n",
        "  linear_cache, activation_cache = current_cache\n",
        "\n",
        "  dZ = sigmoid_backward(dAL, activation_cache)\n",
        "  dA_prev_temp, dW_temp, db_temp = linear_backward(dZ, linear_cache)\n",
        "\n",
        "  grads[f\"dA{L - 1}\"] = dA_prev_temp\n",
        "  grads[f\"dW{L}\"] = dW_temp\n",
        "  grads[f\"db{L}\"] = db_temp\n",
        "\n",
        "  # loops from L -2 -> 0\n",
        "  for l in reversed(range(L - 1)):\n",
        "    current_cache = caches[l]\n",
        "    linear_cache, activation_cache = current_cache\n",
        "\n",
        "    dZ = relu_backward(dA_prev_temp, activation_cache)\n",
        "    dA_prev_temp, dW_temp, db_temp = linear_backward(dZ, linear_cache)\n",
        "\n",
        "    grads[f\"dA{l}\"] = dA_prev_temp\n",
        "    grads[f\"dW{l + 1}\"] = dW_temp\n",
        "    grads[f\"db{l+ 1}\"] = db_temp\n",
        "\n",
        "\n",
        "  return grads"
      ],
      "metadata": {
        "id": "a6uVI5ibdWQV"
      },
      "execution_count": 116,
      "outputs": []
    },
    {
      "cell_type": "code",
      "source": [
        "def update_parameters(params, grads, learning_rate):\n",
        "  L = len(params) // 2\n",
        "  parameters = copy.deepcopy(params)\n",
        "\n",
        "  for l in range(L):\n",
        "    parameters[f\"W{l+1}\"] -= grads[f\"dW{l+1}\"] * learning_rate\n",
        "    parameters[f\"b{l+1}\"] -= grads[f\"db{l+1}\"] * learning_rate\n",
        "\n",
        "  return parameters"
      ],
      "metadata": {
        "id": "fNf2GrU-yOqf"
      },
      "execution_count": 117,
      "outputs": []
    },
    {
      "cell_type": "code",
      "source": [
        "def L_layer_model(X, Y, layer_dims, learning_rate=0.0075, num_iterations=3000, print_cost=False):\n",
        "  np.random.seed(1) # for consistency\n",
        "  costs = []\n",
        "\n",
        "  parameters = initialize_parameters(layer_dims)\n",
        "\n",
        "\n",
        "  for i in range(num_iterations):\n",
        "    AL, caches = forwardprop(X, parameters) #caches[l] = ((A_prev, W, b), Z)\n",
        "\n",
        "    cost = compute_cost(AL, Y)\n",
        "\n",
        "    grads = backprop(AL, Y, caches)\n",
        "\n",
        "    parameters = update_parameters(parameters, grads, learning_rate)\n",
        "\n",
        "    if i % 100 == 0 or i == num_iterations:\n",
        "      costs.append(cost)\n",
        "      if print_cost:\n",
        "        print(f\"Iteration {i}, cost: {np.squeeze(cost)}\")\n",
        "\n",
        "\n",
        "  return parameters, costs\n",
        "\n",
        ""
      ],
      "metadata": {
        "id": "fighvErVy51A"
      },
      "execution_count": 118,
      "outputs": []
    },
    {
      "cell_type": "code",
      "source": [
        "# Load data function from util file\n",
        "def load_data():\n",
        "  train_dataset = h5py.File('datasets/train_catvnoncat.h5', \"r\")\n",
        "  train_set_x_orig = np.array(train_dataset[\"train_set_x\"][:]) # your train set features\n",
        "  train_set_y_orig = np.array(train_dataset[\"train_set_y\"][:]) # your train set labels\n",
        "\n",
        "  test_dataset = h5py.File('datasets/test_catvnoncat.h5', \"r\")\n",
        "  test_set_x_orig = np.array(test_dataset[\"test_set_x\"][:]) # your test set features\n",
        "  test_set_y_orig = np.array(test_dataset[\"test_set_y\"][:]) # your test set labels\n",
        "\n",
        "  classes = np.array(test_dataset[\"list_classes\"][:]) # the list of classes\n",
        "\n",
        "  train_set_y_orig = train_set_y_orig.reshape((1, train_set_y_orig.shape[0]))\n",
        "  test_set_y_orig = test_set_y_orig.reshape((1, test_set_y_orig.shape[0]))\n",
        "\n",
        "  return train_set_x_orig, train_set_y_orig, test_set_x_orig, test_set_y_orig, classes"
      ],
      "metadata": {
        "id": "OtDC-rMk0a_k"
      },
      "execution_count": 119,
      "outputs": []
    },
    {
      "cell_type": "code",
      "source": [
        "# loading and showing example data\n",
        "train_x_orig, train_y, test_x_orig, test_y, classes = load_data()"
      ],
      "metadata": {
        "id": "JN_YAJ-Z6ffX"
      },
      "execution_count": 120,
      "outputs": []
    },
    {
      "cell_type": "code",
      "source": [
        "# preview data\n",
        "index = random.randrange(0, len(train_x_orig))\n",
        "plt.imshow(train_x_orig[index])\n",
        "print(f\"y = {str(train_y[0, index])}\")"
      ],
      "metadata": {
        "colab": {
          "base_uri": "https://localhost:8080/",
          "height": 449
        },
        "id": "egRsWT4W6glu",
        "outputId": "501eb0e8-aed5-47ef-ffe4-2bed9380fbf3"
      },
      "execution_count": 121,
      "outputs": [
        {
          "output_type": "stream",
          "name": "stdout",
          "text": [
            "y = 1\n"
          ]
        },
        {
          "output_type": "display_data",
          "data": {
            "text/plain": [
              "<Figure size 640x480 with 1 Axes>"
            ],
            "image/png": "[encoded data removed]"
          },
          "metadata": {}
        }
      ]
    },
    {
      "cell_type": "code",
      "source": [
        "# print shapes\n",
        "print(f\"train_x_orig shape: {train_x_orig.shape}\")\n",
        "print(f\"train_y shape: {train_y.shape}\")\n",
        "print(f\"test_x_orig shape: {test_x_orig.shape}\")\n",
        "print(f\"test_y shape: {test_y.shape}\")"
      ],
      "metadata": {
        "colab": {
          "base_uri": "https://localhost:8080/"
        },
        "id": "vnKmKZPT61hj",
        "outputId": "3add7a6c-23d0-4c4e-82de-27bd47037a2a"
      },
      "execution_count": 122,
      "outputs": [
        {
          "output_type": "stream",
          "name": "stdout",
          "text": [
            "train_x_orig shape: (209, 64, 64, 3)\n",
            "train_y shape: (1, 209)\n",
            "test_x_orig shape: (50, 64, 64, 3)\n",
            "test_y shape: (1, 50)\n"
          ]
        }
      ]
    },
    {
      "cell_type": "code",
      "source": [
        "# Flatten pixels and rgb\n",
        "# .shape[0] = current index for num training examples\n",
        "train_x_flatten = train_x_orig.reshape(train_x_orig.shape[0], -1)\n",
        "test_x_flatten = test_x_orig.reshape(test_x_orig.shape[0], -1)\n",
        "\n",
        "# transpose such that num training examples are stacked column wise\n",
        "train_x_flatten = train_x_flatten.T\n",
        "test_x_flatten = test_x_flatten.T\n",
        "\n",
        "# standardize/normalize data to have feature values between 0 and 1\n",
        "train_x = train_x_flatten/255\n",
        "test_x = test_x_flatten/255\n",
        "\n",
        "# display new shapes\n",
        "print(f\"train_x shape: {train_x.shape}\")\n",
        "print(f\"test_x shape: {test_x.shape}\")"
      ],
      "metadata": {
        "colab": {
          "base_uri": "https://localhost:8080/"
        },
        "id": "9qsgBg_L7y7r",
        "outputId": "cce03700-70e1-4aed-a9e5-8fb62d33e304"
      },
      "execution_count": 123,
      "outputs": [
        {
          "output_type": "stream",
          "name": "stdout",
          "text": [
            "train_x shape: (12288, 209)\n",
            "test_x shape: (12288, 50)\n"
          ]
        }
      ]
    },
    {
      "cell_type": "code",
      "source": [
        "def plot_costs(costs, learning_rate=0.0075):\n",
        "  plt.plot(np.squeeze(costs))\n",
        "  plt.ylabel('cost')\n",
        "  plt.xlabel('iterations (per hundreds)')\n",
        "  plt.title(\"Learning rate =\" + str(learning_rate))\n",
        "  plt.show()"
      ],
      "metadata": {
        "id": "2mTFHV8LEsIA"
      },
      "execution_count": 124,
      "outputs": []
    },
    {
      "cell_type": "code",
      "source": [
        "def predict(X, Y, parameters):\n",
        "  m = X.shape[1]\n",
        "  pred, caches = forwardprop(X, parameters)\n",
        "  p = np.zeros((1, m))\n",
        "\n",
        "  for i in range(0, pred.shape[1]):\n",
        "    if pred[0, i] > 0.5:\n",
        "      p[0, i] = 1\n",
        "    else:\n",
        "      p[0, i] = 0\n",
        "\n",
        "  print(f\"Accuracy: {np.sum((p == Y) / m)}\")\n",
        "\n",
        "  return p\n",
        ""
      ],
      "metadata": {
        "id": "tROQZ8e39_UC"
      },
      "execution_count": 127,
      "outputs": []
    },
    {
      "cell_type": "code",
      "source": [
        "# feed into model\n",
        "layer_dims = [12288, 20, 7, 5, 1]\n",
        "\n",
        "parameters, costs = L_layer_model(train_x, train_y, layer_dims, num_iterations=2500, print_cost=True)\n",
        "plot_costs(costs)"
      ],
      "metadata": {
        "colab": {
          "base_uri": "https://localhost:8080/",
          "height": 425
        },
        "id": "UTRZF6K79L1-",
        "outputId": "89d44e91-682a-4d5b-b622-203aa8115cb3"
      },
      "execution_count": 128,
      "outputs": [
        {
          "output_type": "stream",
          "name": "stdout",
          "text": [
            "Iteration 0, cost: 0.6931489045172448\n",
            "Iteration 100, cost: 0.6780101696342276\n"
          ]
        },
        {
          "output_type": "error",
          "ename": "KeyboardInterrupt",
          "evalue": "ignored",
          "traceback": [
            "\u001b[0;31m---------------------------------------------------------------------------\u001b[0m",
            "\u001b[0;31mKeyboardInterrupt\u001b[0m                         Traceback (most recent call last)",
            "\u001b[0;32m<ipython-input-128-146439e509ec>\u001b[0m in \u001b[0;36m<cell line: 4>\u001b[0;34m()\u001b[0m\n\u001b[1;32m      2\u001b[0m \u001b[0mlayer_dims\u001b[0m \u001b[0;34m=\u001b[0m \u001b[0;34m[\u001b[0m\u001b[0;36m12288\u001b[0m\u001b[0;34m,\u001b[0m \u001b[0;36m20\u001b[0m\u001b[0;34m,\u001b[0m \u001b[0;36m7\u001b[0m\u001b[0;34m,\u001b[0m \u001b[0;36m5\u001b[0m\u001b[0;34m,\u001b[0m \u001b[0;36m1\u001b[0m\u001b[0;34m]\u001b[0m\u001b[0;34m\u001b[0m\u001b[0;34m\u001b[0m\u001b[0m\n\u001b[1;32m      3\u001b[0m \u001b[0;34m\u001b[0m\u001b[0m\n\u001b[0;32m----> 4\u001b[0;31m \u001b[0mparameters\u001b[0m\u001b[0;34m,\u001b[0m \u001b[0mcosts\u001b[0m \u001b[0;34m=\u001b[0m \u001b[0mL_layer_model\u001b[0m\u001b[0;34m(\u001b[0m\u001b[0mtrain_x\u001b[0m\u001b[0;34m,\u001b[0m \u001b[0mtrain_y\u001b[0m\u001b[0;34m,\u001b[0m \u001b[0mlayer_dims\u001b[0m\u001b[0;34m,\u001b[0m \u001b[0mnum_iterations\u001b[0m\u001b[0;34m=\u001b[0m\u001b[0;36m2500\u001b[0m\u001b[0;34m,\u001b[0m \u001b[0mprint_cost\u001b[0m\u001b[0;34m=\u001b[0m\u001b[0;32mTrue\u001b[0m\u001b[0;34m)\u001b[0m\u001b[0;34m\u001b[0m\u001b[0;34m\u001b[0m\u001b[0m\n\u001b[0m\u001b[1;32m      5\u001b[0m \u001b[0mplot_costs\u001b[0m\u001b[0;34m(\u001b[0m\u001b[0mcosts\u001b[0m\u001b[0;34m)\u001b[0m\u001b[0;34m\u001b[0m\u001b[0;34m\u001b[0m\u001b[0m\n",
            "\u001b[0;32m<ipython-input-118-a8a149c52140>\u001b[0m in \u001b[0;36mL_layer_model\u001b[0;34m(X, Y, layer_dims, learning_rate, num_iterations, print_cost)\u001b[0m\n\u001b[1;32m     11\u001b[0m     \u001b[0mcost\u001b[0m \u001b[0;34m=\u001b[0m \u001b[0mcompute_cost\u001b[0m\u001b[0;34m(\u001b[0m\u001b[0mAL\u001b[0m\u001b[0;34m,\u001b[0m \u001b[0mY\u001b[0m\u001b[0;34m)\u001b[0m\u001b[0;34m\u001b[0m\u001b[0;34m\u001b[0m\u001b[0m\n\u001b[1;32m     12\u001b[0m \u001b[0;34m\u001b[0m\u001b[0m\n\u001b[0;32m---> 13\u001b[0;31m     \u001b[0mgrads\u001b[0m \u001b[0;34m=\u001b[0m \u001b[0mbackprop\u001b[0m\u001b[0;34m(\u001b[0m\u001b[0mAL\u001b[0m\u001b[0;34m,\u001b[0m \u001b[0mY\u001b[0m\u001b[0;34m,\u001b[0m \u001b[0mcaches\u001b[0m\u001b[0;34m)\u001b[0m\u001b[0;34m\u001b[0m\u001b[0;34m\u001b[0m\u001b[0m\n\u001b[0m\u001b[1;32m     14\u001b[0m \u001b[0;34m\u001b[0m\u001b[0m\n\u001b[1;32m     15\u001b[0m     \u001b[0mparameters\u001b[0m \u001b[0;34m=\u001b[0m \u001b[0mupdate_parameters\u001b[0m\u001b[0;34m(\u001b[0m\u001b[0mparameters\u001b[0m\u001b[0;34m,\u001b[0m \u001b[0mgrads\u001b[0m\u001b[0;34m,\u001b[0m \u001b[0mlearning_rate\u001b[0m\u001b[0;34m)\u001b[0m\u001b[0;34m\u001b[0m\u001b[0;34m\u001b[0m\u001b[0m\n",
            "\u001b[0;32m<ipython-input-116-604f7172ff79>\u001b[0m in \u001b[0;36mbackprop\u001b[0;34m(AL, Y, caches)\u001b[0m\n\u001b[1;32m     57\u001b[0m \u001b[0;34m\u001b[0m\u001b[0m\n\u001b[1;32m     58\u001b[0m     \u001b[0mdZ\u001b[0m \u001b[0;34m=\u001b[0m \u001b[0mrelu_backward\u001b[0m\u001b[0;34m(\u001b[0m\u001b[0mdA_prev_temp\u001b[0m\u001b[0;34m,\u001b[0m \u001b[0mactivation_cache\u001b[0m\u001b[0;34m)\u001b[0m\u001b[0;34m\u001b[0m\u001b[0;34m\u001b[0m\u001b[0m\n\u001b[0;32m---> 59\u001b[0;31m     \u001b[0mdA_prev_temp\u001b[0m\u001b[0;34m,\u001b[0m \u001b[0mdW_temp\u001b[0m\u001b[0;34m,\u001b[0m \u001b[0mdb_temp\u001b[0m \u001b[0;34m=\u001b[0m \u001b[0mlinear_backward\u001b[0m\u001b[0;34m(\u001b[0m\u001b[0mdZ\u001b[0m\u001b[0;34m,\u001b[0m \u001b[0mlinear_cache\u001b[0m\u001b[0;34m)\u001b[0m\u001b[0;34m\u001b[0m\u001b[0;34m\u001b[0m\u001b[0m\n\u001b[0m\u001b[1;32m     60\u001b[0m \u001b[0;34m\u001b[0m\u001b[0m\n\u001b[1;32m     61\u001b[0m     \u001b[0mgrads\u001b[0m\u001b[0;34m[\u001b[0m\u001b[0;34mf\"dA{l}\"\u001b[0m\u001b[0;34m]\u001b[0m \u001b[0;34m=\u001b[0m \u001b[0mdA_prev_temp\u001b[0m\u001b[0;34m\u001b[0m\u001b[0;34m\u001b[0m\u001b[0m\n",
            "\u001b[0;31mKeyboardInterrupt\u001b[0m: "
          ]
        }
      ]
    },
    {
      "cell_type": "code",
      "source": [
        "pred_train = predict(train_x, train_y, parameters)"
      ],
      "metadata": {
        "id": "u56M1V7HTtPt"
      },
      "execution_count": null,
      "outputs": []
    },
    {
      "cell_type": "code",
      "source": [
        "pred_test = predict(test_x, test_y, parameters)"
      ],
      "metadata": {
        "colab": {
          "base_uri": "https://localhost:8080/"
        },
        "id": "KigbSzAdTy_o",
        "outputId": "49ae1a3f-22fb-47ef-c3b4-833f7eeec65b"
      },
      "execution_count": 111,
      "outputs": [
        {
          "output_type": "stream",
          "name": "stdout",
          "text": [
            "Accuracy: 0.3400000000000001\n"
          ]
        }
      ]
    },
    {
      "cell_type": "code",
      "source": [],
      "metadata": {
        "id": "za6Uz3cfT3UX"
      },
      "execution_count": null,
      "outputs": []
    }
  ]
}